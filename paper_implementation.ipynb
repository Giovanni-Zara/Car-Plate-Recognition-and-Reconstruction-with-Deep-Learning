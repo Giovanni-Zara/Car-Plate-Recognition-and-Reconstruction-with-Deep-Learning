{
  "cells": [
    {
      "cell_type": "code",
      "execution_count": null,
      "id": "HAN26sOdF-L_",
      "metadata": {
        "colab": {
          "base_uri": "https://localhost:8080/"
        },
        "id": "HAN26sOdF-L_",
        "outputId": "f8466499-fcbf-427c-a99f-693ebd245a35"
      },
      "outputs": [
        {
          "name": "stdout",
          "output_type": "stream",
          "text": [
            "Mounted at /content/drive\n"
          ]
        }
      ],
      "source": [
        "from google.colab import drive\n",
        "drive.mount('/content/drive')"
      ]
    },
    {
      "cell_type": "markdown",
      "id": "nKjooigyJFeQ",
      "metadata": {
        "id": "nKjooigyJFeQ"
      },
      "source": [
        "# COMPLETE PAPER PIPELINE **YOLOV5 + PDLPR**\n",
        "\n"
      ]
    },
    {
      "cell_type": "markdown",
      "id": "nUeVsx3sJRZh",
      "metadata": {
        "id": "nUeVsx3sJRZh"
      },
      "source": [
        "#YOLOV5 INFERENCE"
      ]
    },
    {
      "cell_type": "code",
      "execution_count": null,
      "id": "icMPePYSGBkf",
      "metadata": {
        "id": "icMPePYSGBkf"
      },
      "outputs": [],
      "source": [
        "!cp -r /content/drive/MyDrive/ccpd_green /content/"
      ]
    },
    {
      "cell_type": "code",
      "execution_count": null,
      "id": "VLfaezaiJT7_",
      "metadata": {
        "colab": {
          "base_uri": "https://localhost:8080/"
        },
        "id": "VLfaezaiJT7_",
        "outputId": "eb0027bc-4152-4c2c-a954-828a62cfc1d1"
      },
      "outputs": [
        {
          "name": "stdout",
          "output_type": "stream",
          "text": [
            "Cloning into 'yolov5'...\n",
            "remote: Enumerating objects: 17516, done.\u001b[K\n",
            "remote: Counting objects: 100% (19/19), done.\u001b[K\n",
            "remote: Compressing objects: 100% (19/19), done.\u001b[K\n",
            "remote: Total 17516 (delta 6), reused 0 (delta 0), pack-reused 17497 (from 4)\u001b[K\n",
            "Receiving objects: 100% (17516/17516), 16.62 MiB | 30.29 MiB/s, done.\n",
            "Resolving deltas: 100% (12001/12001), done.\n"
          ]
        }
      ],
      "source": [
        "!git clone https://github.com/ultralytics/yolov5"
      ]
    },
    {
      "cell_type": "code",
      "execution_count": null,
      "id": "iWgqV7ywJXO-",
      "metadata": {
        "colab": {
          "base_uri": "https://localhost:8080/"
        },
        "collapsed": true,
        "id": "iWgqV7ywJXO-",
        "outputId": "3e76597c-be6b-4ae4-cae2-03bccc46e1cf"
      },
      "outputs": [],
      "source": [
        "!pip install -r /content/yolov5/requirements.txt"
      ]
    },
    {
      "cell_type": "code",
      "execution_count": null,
      "id": "EnPb9vc6Jcml",
      "metadata": {
        "colab": {
          "base_uri": "https://localhost:8080/"
        },
        "collapsed": true,
        "id": "EnPb9vc6Jcml",
        "outputId": "cc4407f7-ec07-4882-e86b-0bd6c80c46b2"
      },
      "outputs": [],
      "source": [
        "!python yolov5/detect.py --weights yolo_finetuned_model.pt --source \"/content/ccpd_green/train\" --data inference_data.yaml --save-txt --save-crop  ## output canceled due to mega large size"
      ]
    },
    {
      "cell_type": "code",
      "execution_count": null,
      "id": "U09E8cdZJowr",
      "metadata": {
        "colab": {
          "base_uri": "https://localhost:8080/"
        },
        "collapsed": true,
        "id": "U09E8cdZJowr",
        "outputId": "e93b178d-dc47-4ca3-f2f4-f11eb6aa0799"
      },
      "outputs": [],
      "source": [
        "!python yolov5/detect.py --weights yolo_finetuned_model.pt --source \"/content/ccpd_green/val\" --data inference_data.yaml --save-txt --save-crop  ## output canceled due to mega large size"
      ]
    },
    {
      "cell_type": "code",
      "execution_count": null,
      "id": "BhzGPMtGJpCt",
      "metadata": {
        "colab": {
          "base_uri": "https://localhost:8080/"
        },
        "collapsed": true,
        "id": "BhzGPMtGJpCt",
        "outputId": "f7c23bad-257c-49a5-9e3b-579672b3a7bf"
      },
      "outputs": [],
      "source": [
        "!python yolov5/detect.py --weights yolo_finetuned_model.pt --source \"/content/ccpd_green/test\" --data inference_data.yaml --save-txt --save-crop  ## output canceled due to mega large size"
      ]
    },
    {
      "cell_type": "markdown",
      "id": "Ian4wiKUJPPV",
      "metadata": {
        "id": "Ian4wiKUJPPV"
      },
      "source": [
        "# PDLPR"
      ]
    },
    {
      "cell_type": "markdown",
      "id": "a10ce997",
      "metadata": {
        "id": "a10ce997"
      },
      "source": [
        "# Imports"
      ]
    },
    {
      "cell_type": "code",
      "execution_count": null,
      "id": "02304482",
      "metadata": {
        "id": "02304482"
      },
      "outputs": [],
      "source": [
        "import os\n",
        "import torch\n",
        "from torch.utils.data import Dataset, DataLoader\n",
        "from torchvision import transforms\n",
        "from PIL import Image\n",
        "import numpy as np\n",
        "import torch.nn as nn\n",
        "import torch.optim as optim\n",
        "import re\n",
        "import matplotlib.pyplot as plt\n",
        "import time\n",
        "import warnings"
      ]
    },
    {
      "cell_type": "markdown",
      "id": "187bea42",
      "metadata": {
        "id": "187bea42"
      },
      "source": [
        "# Globals"
      ]
    },
    {
      "cell_type": "code",
      "execution_count": null,
      "id": "7152fe86",
      "metadata": {
        "colab": {
          "base_uri": "https://localhost:8080/"
        },
        "id": "7152fe86",
        "outputId": "bfd77c3c-1501-4f6f-91c5-8a789b03e915"
      },
      "outputs": [
        {
          "name": "stdout",
          "output_type": "stream",
          "text": [
            "dictionary has 68 unique chars: ['皖', '沪', '津', '渝', '冀', '晋', '蒙', '辽', '吉', '黑', '苏', '浙', '京', '闽', '赣', '鲁', '豫', '鄂', '湘', '粤', '桂', '琼', '川', '贵', '云', '藏', '陕', '甘', '青', '宁', '新', '警', '学', 'O', 'A', 'B', 'C', 'D', 'E', 'F', 'G', 'H', 'J', 'K', 'L', 'M', 'N', 'P', 'Q', 'R', 'S', 'T', 'U', 'V', 'W', 'X', 'Y', 'Z', '0', '1', '2', '3', '4', '5', '6', '7', '8', '9']\n",
            "so i got (+1 for blank): 69 classes\n"
          ]
        }
      ],
      "source": [
        "# TRANSFORMATIONS\n",
        "\n",
        "transform = transforms.Compose([\n",
        "    transforms.Resize((64, 256)), # Aspect ratio più realistico per targhe\n",
        "    transforms.ToTensor(),\n",
        "    transforms.Grayscale(num_output_channels=1),\n",
        "    transforms.Normalize(mean=[0.5], std=[0.5])\n",
        "])\n",
        "\n",
        "# GLOBALS NEEDED FOR ENCODING AND DECODING \n",
        "\n",
        "provinces = [\"皖\", \"沪\", \"津\", \"渝\", \"冀\", \"晋\", \"蒙\", \"辽\", \"吉\", \"黑\", \"苏\", \"浙\", \"京\", \"闽\", \"赣\", \"鲁\", \"豫\", \"鄂\", \"湘\", \"粤\", \"桂\", \"琼\", \"川\", \"贵\", \"云\", \"藏\", \"陕\", \"甘\", \"青\", \"宁\", \"新\", \"警\", \"学\", \"O\"]\n",
        "alphabets = ['A', 'B', 'C', 'D', 'E', 'F', 'G', 'H', 'J', 'K', 'L', 'M', 'N', 'P', 'Q', 'R', 'S', 'T', 'U', 'V', 'W', 'X', 'Y', 'Z', 'O']\n",
        "ads = ['A', 'B', 'C', 'D', 'E', 'F', 'G', 'H', 'J', 'K', 'L', 'M', 'N', 'P', 'Q', 'R', 'S', 'T', 'U', 'V', 'W', 'X', 'Y', 'Z', '0', '1', '2', '3', '4', '5', '6', '7', '8', '9', 'O']\n",
        "\n",
        "seen = set()   \n",
        "MY_DICTIONARY = []\n",
        "for char_list in [provinces, alphabets, ads]:\n",
        "    for char in char_list:\n",
        "        if char not in seen:\n",
        "            MY_DICTIONARY.append(char)\n",
        "            seen.add(char)\n",
        "\n",
        "char2idx = {c: i for i, c in enumerate(MY_DICTIONARY)} # from characters to indices encoding\n",
        "idx2char = {i: c for i, c in enumerate(MY_DICTIONARY)} # from indices to characters encoding\n",
        "BLANK_IDX = len(MY_DICTIONARY)  "
      ]
    },
    {
      "cell_type": "code",
      "execution_count": null,
      "id": "6f8ae945",
      "metadata": {
        "colab": {
          "base_uri": "https://localhost:8080/"
        },
        "id": "6f8ae945",
        "outputId": "f56e5e40-d751-46ad-970e-db89dbe3c616"
      },
      "outputs": [
        {
          "name": "stdout",
          "output_type": "stream",
          "text": [
            "=== validating dict ===\n",
            "Provinces: 34 chars\n",
            "Alphabets: 25 chars\n",
            "Ads: 35 chars\n",
            "Final dict: 68 unique chars\n",
            "all chars are included in the dict\n",
            "\n",
            "=== Test Parsing ===\n",
            "Test filename: 025-95_113-154&383_386&473-386&473_177&454_154&383_363&402-0_0_22_27_27_33_16-37-15.jpg\n",
            "parsed plate: '皖AY339S'\n",
            "the dictionary is ok!\n"
          ]
        }
      ],
      "source": [
        "# CHECK ON DATASET STRUCTURE\n",
        "\n",
        "def validate_dictionary():\n",
        "    print(\"=== validating dict ===\")\n",
        "    print(f\"Provinces: {len(provinces)} chars\")\n",
        "    print(f\"Alphabets: {len(alphabets)} chars\")\n",
        "    print(f\"Ads: {len(ads)} chars\")\n",
        "    print(f\"Final dict: {len(MY_DICTIONARY)} unique chars\")\n",
        "\n",
        "    all_chars = set(provinces + alphabets + ads)\n",
        "    dict_chars = set(MY_DICTIONARY)\n",
        "\n",
        "    if all_chars == dict_chars:\n",
        "        print(\"all chars are included in the dict\")\n",
        "    else:\n",
        "        missing = all_chars - dict_chars\n",
        "        extra = dict_chars - all_chars\n",
        "        if missing:\n",
        "            print(f\"missing chars: {missing}\")\n",
        "        if extra:\n",
        "            print(f\"there's extra chars!: {extra}\")\n",
        "\n",
        "    # example file\n",
        "    test_filename = \"025-95_113-154&383_386&473-386&473_177&454_154&383_363&402-0_0_22_27_27_33_16-37-15.jpg\"\n",
        "    print(f\"\\n=== Test Parsing ===\")\n",
        "    print(f\"Test filename: {test_filename}\")\n",
        "\n",
        "    # parsing plate (method from the class)\n",
        "    fields = test_filename.split('-')\n",
        "    indices = fields[4].split(\"_\")\n",
        "    test_plate = provinces[int(indices[0])] + alphabets[int(indices[1])] + \"\".join([ads[int(i)] for i in indices[2:]])\n",
        "    print(f\"parsed plate: '{test_plate}'\")\n",
        "\n",
        "    # Verify i have all the chars in the dict\n",
        "    missing_chars = [c for c in test_plate if c not in char2idx]\n",
        "    if missing_chars:\n",
        "        print(f\"missing chars in dict: {missing_chars}\")\n",
        "    else:\n",
        "        print(\"the dictionary is ok!\")\n",
        "\n",
        "validate_dictionary()"
      ]
    },
    {
      "cell_type": "markdown",
      "id": "1d075bc2",
      "metadata": {
        "id": "1d075bc2"
      },
      "source": [
        "# model architecture and utils"
      ]
    },
    {
      "cell_type": "code",
      "execution_count": null,
      "id": "5e69c062",
      "metadata": {
        "id": "5e69c062"
      },
      "outputs": [],
      "source": [
        "# PDLPR MODEL FOLLOWING PAPER ARCHITECTURE\n",
        "\n",
        "'''\n",
        "\n",
        "We implemented the architecture described in the paper by following these modules:\n",
        "\n",
        "IMPROVED GLOBAL FEATURE EXTRACTOR (IGFE), COMPOSED BY:\n",
        "\n",
        "- 1 FOCUS STRUCTURE (SLICING CONCATENATED ALONG THE CHANNEL DIRECTION, S=2)\n",
        "- 2 RESBLOCKS (2 RESIDUALLY CONNECTED CNN BLOCKS (LEAKY RELU, BATCH NORMALIZATION, S=1, K=3))\n",
        "- 1 CONVDOWNSAMPLING BLOCKS (SAME CNN BLOCK IN RESBLOCKS BUT WITH S=2)\n",
        "- 2 RESBLOCKS (2 RESIDUALLY CONNECTED CNN BLOCKS (LEAKY RELU, BATCH NORMALIZATION, S=1, K=3))\n",
        "- 1 CONVDOWNSAMPLING BLOCKS (SAME CNN BLOCK IN RESBLOCKS BUT WITH S=2)\n",
        "\n",
        "ENCODER, COMPOSED BY:\n",
        "\n",
        "- POSITIONAL ENCODING                                               |\n",
        "- 1 CNN BLOCK (SAME CNN BLOCK IN RESBLOCKS BUT WITH S=1, K=1, P=1)  |\n",
        "- 1 MULTI-HEAD ATTENTION BLOCK                                      | X3\n",
        "- 1 CNN BLOCK (SAME CNN BLOCK IN RESBLOCKS BUT WITH S=1, K=1, P=1)  |\n",
        "- 1 ADD & NORM BLOCK                                                |\n",
        "\n",
        "NOW INSTEAD OF A PARALLEL DECODER WE DECIDED TO SIMPLIFY THE APPROACH BY USING THE CTC LOSS, WHOSE OUTPUTS ARE GREEDY DECODED.\n",
        "MORE INFORMATION ABOUT THIS CHOICE CAN BE FOUND IN THE PRESENTATION: \"Presentazione_Computer_Vision.pdf\"\n",
        "\n",
        "'''\n",
        "\n",
        "\n",
        "# FOCUS MODULE\n",
        "\n",
        "class Focus(nn.Module):\n",
        "    def __init__(self, in_channels=1, out_channels=64, dropout=0.1):  \n",
        "        super(Focus, self).__init__()  \n",
        "        self.conv = nn.Conv2d(in_channels * 4, out_channels, kernel_size=3, stride=1, padding=1)\n",
        "        self.bn = nn.BatchNorm2d(out_channels)\n",
        "        self.act = nn.LeakyReLU(inplace=True)\n",
        "        self.dropout = nn.Dropout(dropout)\n",
        "        self._initialize_weights()\n",
        "\n",
        "    def _initialize_weights(self):\n",
        "        for m in self.modules():\n",
        "            if isinstance(m, nn.Conv2d):\n",
        "                nn.init.kaiming_normal_(m.weight)\n",
        "            elif isinstance(m, nn.BatchNorm2d):\n",
        "                nn.init.constant_(m.weight, 1)\n",
        "                nn.init.constant_(m.bias, 0)\n",
        "            elif isinstance(m, nn.Linear):\n",
        "                nn.init.xavier_normal_(m.weight)\n",
        "                if m.bias is not None:\n",
        "                    nn.init.constant_(m.bias, 0)\n",
        "\n",
        "    def forward(self, x):\n",
        "        patch1 = x[..., ::2, ::2]\n",
        "        patch2 = x[..., ::2, 1::2]\n",
        "        patch3 = x[..., 1::2, ::2]\n",
        "        patch4 = x[..., 1::2, 1::2]\n",
        "        x = torch.cat([patch1, patch2, patch3, patch4], dim=1)\n",
        "        x = self.conv(x)\n",
        "        x = self.bn(x)\n",
        "        x = self.act(x)\n",
        "        x = self.dropout(x)\n",
        "\n",
        "        return x\n",
        "\n",
        "# CNN BLOCK USED IN RESBLOCKS AND IN THE DOWNSAMPLING PART\n",
        "\n",
        "def conv_block(in_channels, out_channels, kernel_size=3, stride=1, padding=1):\n",
        "    return nn.Sequential(\n",
        "        nn.Conv2d(in_channels, out_channels, kernel_size, stride, padding),\n",
        "        nn.BatchNorm2d(out_channels),\n",
        "        nn.LeakyReLU(inplace=True)\n",
        "    )\n",
        "\n",
        "# RESBLOCK\n",
        "\n",
        "class ResBlock(nn.Module):\n",
        "    def __init__(self, channels):  \n",
        "        super(ResBlock, self).__init__()  \n",
        "        self.block = nn.Sequential(\n",
        "            conv_block(channels, channels),\n",
        "            conv_block(channels, channels)\n",
        "        )\n",
        "\n",
        "    def forward(self, x):\n",
        "        return x + self.block(x)\n",
        "\n",
        "# FULL IMPROVED GLOBAL FEATURE EXTRACTOR MODULE\n",
        "\n",
        "class IGFE(nn.Module):\n",
        "    def __init__(self, dropout=0.1):  \n",
        "        super(IGFE, self).__init__()  \n",
        "        self.focus = Focus(1, 64, dropout)  \n",
        "        self.down1 = conv_block(64, 128, stride=2)\n",
        "        self.res1 = ResBlock(128)\n",
        "        self.res2 = ResBlock(128)\n",
        "        self.down2 = conv_block(128, 256, stride=2)\n",
        "        self.res3 = ResBlock(256)\n",
        "        self.res4 = ResBlock(256)\n",
        "        self.final_conv = nn.Conv2d(256, 512, kernel_size=1)\n",
        "        self.adaptive_pool = nn.AdaptiveAvgPool2d((6, 18))\n",
        "        self.dropout = nn.Dropout(dropout)\n",
        "\n",
        "    def forward(self, x):\n",
        "        x = self.focus(x)\n",
        "        x = self.down1(x)\n",
        "        x = self.dropout(x)\n",
        "        x = self.res1(x)\n",
        "        x = self.res2(x)\n",
        "        x = self.down2(x)\n",
        "        x = self.dropout(x)\n",
        "        x = self.res3(x)\n",
        "        x = self.res4(x)\n",
        "        x = self.final_conv(x)\n",
        "        x = self.adaptive_pool(x)\n",
        "        return x\n",
        "\n",
        "# POSITIONAL ENCODING\n",
        "\n",
        "class PositionalEncoding(nn.Module):\n",
        "    def __init__(self, d_model, height, width): \n",
        "        super().__init__()  \n",
        "        self.pe = nn.Parameter(torch.randn(1, d_model, height, width))\n",
        "\n",
        "    def forward(self, x):\n",
        "        return x + self.pe\n",
        "\n",
        "# ENCODER BLOCK\n",
        "\n",
        "class EncoderBlock(nn.Module):\n",
        "    def __init__(self, d_model):  \n",
        "        super(EncoderBlock, self).__init__()  \n",
        "        self.self_attn = nn.MultiheadAttention(d_model, num_heads=8, batch_first=True)\n",
        "        self.ffn = nn.Sequential(\n",
        "            nn.Linear(d_model, d_model * 4),\n",
        "            nn.ReLU(),\n",
        "            nn.Linear(d_model * 4, d_model)\n",
        "        )\n",
        "        self.norm1 = nn.LayerNorm(d_model)\n",
        "        self.norm2 = nn.LayerNorm(d_model)\n",
        "        self.dropout = nn.Dropout(0.1)\n",
        "\n",
        "    def forward(self, x):\n",
        "        B, C, H, W = x.shape\n",
        "        x = x.flatten(2).transpose(1, 2)  \n",
        "\n",
        "        attn_out, _ = self.self_attn(x, x, x)\n",
        "        x = self.norm1(x + self.dropout(attn_out))\n",
        "\n",
        "        ffn_out = self.ffn(x)\n",
        "        x = self.norm2(x + self.dropout(ffn_out))\n",
        "\n",
        "        return x.transpose(1, 2).view(B, C, H, W)\n",
        "\n",
        "# FULL PDLPR MODEL\n",
        "\n",
        "class PDLPR(nn.Module):\n",
        "    def __init__(self, num_classes, dropout=0.1):  \n",
        "        super(PDLPR, self).__init__()  \n",
        "        self.igfe = IGFE(dropout)\n",
        "        self.pos_encoding = PositionalEncoding(512, 6, 18)\n",
        "        self.encoder = nn.Sequential(*[EncoderBlock(512) for _ in range(3)])\n",
        "\n",
        "        self.ctc_head = nn.Sequential(\n",
        "            nn.Linear(512 * 6, 256),  \n",
        "            nn.ReLU(),\n",
        "            nn.Dropout(dropout),\n",
        "            nn.Linear(256, num_classes)\n",
        "        )\n",
        "        self.dropout = nn.Dropout(dropout)\n",
        "\n",
        "    def forward(self, x):\n",
        "        x = self.igfe(x)  \n",
        "        x = self.pos_encoding(x)\n",
        "        x = self.encoder(x)  \n",
        "\n",
        "        B, C, H, W = x.shape\n",
        "        x = x.permute(0, 3, 1, 2)  \n",
        "        x = x.contiguous().view(B, W, -1)  \n",
        "\n",
        "        x = self.ctc_head(x)  \n",
        "        x = x.permute(1, 0, 2)  \n",
        "\n",
        "        return x"
      ]
    },
    {
      "cell_type": "markdown",
      "id": "4bb257e2",
      "metadata": {
        "id": "4bb257e2"
      },
      "source": [
        "## Utils"
      ]
    },
    {
      "cell_type": "code",
      "execution_count": null,
      "id": "8999ef11",
      "metadata": {
        "id": "8999ef11"
      },
      "outputs": [],
      "source": [
        "# COLLATE FUNCTION\n",
        "\n",
        "def ctc_collate_fn(batch):\n",
        "\n",
        "    '''\n",
        "\n",
        "    basically what I do here is stacking all the images in a batch into a single tensor and\n",
        "    then computing the len of each label (assuming different lenght plate can happen). (I could actually avoid this but it's more general)\n",
        "    Finally just concatenating all the labels into a vector (pytorch CTC wantres them in a line, not list)\n",
        "    then returning image-label-its lenght.\n",
        "    I need this to tell CTC where labels finish and i do not care padding as CTC deals with that internally \n",
        "\n",
        "    '''\n",
        "\n",
        "    images, labels = zip(*batch)\n",
        "    images = torch.stack(images)\n",
        "    label_lengths = torch.tensor([len(l) for l in labels], dtype=torch.long)\n",
        "    labels = torch.cat(labels)\n",
        "    return images, labels, label_lengths\n",
        "\n",
        "def get_plate(filename):\n",
        "\n",
        "    '''\n",
        "\n",
        "    Extract the ground truth text plate from an image (parse the file of the image, since the text is encoded there)\n",
        "\n",
        "    '''\n",
        "\n",
        "    fields = filename.split('-')\n",
        "\n",
        "    text=str(fields[4])\n",
        "    indices=text.split(\"_\")\n",
        "    province_character=provinces[int(indices[0])]\n",
        "    alphabet_character=alphabets[int(indices[1])]\n",
        "    ads_charachters=[ads[int(i)] for i in indices[2:]]\n",
        "    plate_text=province_character+alphabet_character+\"\".join(ads_charachters)\n",
        "\n",
        "    return plate_text\n",
        "\n",
        "\n",
        "\n",
        "def ctc_greedy_decoder(output, idx2char, blank=BLANK_IDX):\n",
        "\n",
        "    '''\n",
        "\n",
        "    Now, I know the network returns probabilities, as it does a softmax with logits of characters.\n",
        "    I need to transform that probability into an actual char to compose the plate.\n",
        "    I take the argmax of the softmax (most prob char), remove blanks used by CTC and possible\n",
        "    duplicates CTC can actually produce.\n",
        "    At the end I simply use the  mappings char-index index-char deefined at the beginning to compose the plate.\n",
        "    This is greedy as it just takes the argmax of every step --> should be enough\n",
        "\n",
        "    '''\n",
        "\n",
        "    out = output.permute(1, 0, 2)  \n",
        "    pred_strings = []\n",
        "    for probs in out:\n",
        "        pred = probs.argmax(1).cpu().numpy()\n",
        "        prev = -1\n",
        "        pred_str = []\n",
        "        for p in pred:\n",
        "            if p != blank and p != prev:\n",
        "                pred_str.append(idx2char[p])\n",
        "            prev = p\n",
        "        pred_strings.append(''.join(pred_str))\n",
        "    return pred_strings\n",
        "\n",
        "# TRAINING FUNCTION\n",
        "\n",
        "def train_one_epoch(model, dataloader, optimizer, criterion, device, epoch):\n",
        "    model.train()\n",
        "    total_loss = 0\n",
        "    start_time = time.time()\n",
        "\n",
        "    for batch_idx, (images, labels, label_lengths) in enumerate(dataloader):\n",
        "        images = images.to(device)\n",
        "        labels = labels.to(device)\n",
        "        label_lengths = label_lengths.to(device)\n",
        "\n",
        "        optimizer.zero_grad()\n",
        "        outputs = model(images)  # [W, B, num_classes]\n",
        "        log_probs = outputs.log_softmax(2)\n",
        "        input_lengths = torch.full(size=(images.size(0),), fill_value=log_probs.size(0), dtype=torch.long).to(device)\n",
        "\n",
        "        loss = criterion(log_probs, labels, input_lengths, label_lengths)\n",
        "        loss.backward()\n",
        "        optimizer.step()\n",
        "\n",
        "        total_loss += loss.item()\n",
        "\n",
        "        # Log batch loss every 100 batches\n",
        "        if batch_idx % 100 == 0:\n",
        "            wandb.log({\n",
        "                \"batch_loss\": loss.item(),\n",
        "                \"epoch\": epoch,\n",
        "                \"batch\": batch_idx\n",
        "            })\n",
        "\n",
        "    avg_loss = total_loss / len(dataloader)\n",
        "    epoch_time = time.time() - start_time\n",
        "\n",
        "    # Log epoch metrics\n",
        "    wandb.log({\n",
        "        \"train_loss\": avg_loss,\n",
        "        \"epoch_time\": epoch_time,\n",
        "        \"epoch\": epoch,\n",
        "        \"learning_rate\": optimizer.param_groups[0]['lr']\n",
        "    })\n",
        "\n",
        "    print(f\"Epoch {epoch} - Train Loss: {avg_loss:.4f} - Time: {epoch_time:.2f}s\")\n",
        "    return avg_loss\n",
        "\n",
        "\n",
        "def evaluate(model, dataloader, device, epoch=None, verbose = False,):\n",
        "    model.eval()\n",
        "    total = 0\n",
        "    correct = 0\n",
        "    total_chars = 0\n",
        "    correct_chars = 0\n",
        "    start_time = time.time()\n",
        "\n",
        "    # Metriche aggiuntive\n",
        "    length_errors = 0\n",
        "    province_correct = 0\n",
        "    alphabet_correct = 0\n",
        "\n",
        "    with torch.no_grad():\n",
        "        for images, labels, label_lengths in dataloader:\n",
        "            images = images.to(device)\n",
        "            outputs = model(images)\n",
        "            pred_strings = ctc_greedy_decoder(outputs, idx2char)\n",
        "\n",
        "            # Get ground truth\n",
        "            labels_cpu = labels.cpu().numpy()\n",
        "            lengths_cpu = label_lengths.cpu().numpy()\n",
        "            idx = 0\n",
        "            gt_strings = []\n",
        "            for l in lengths_cpu:\n",
        "                gt = ''.join([idx2char[i] for i in labels_cpu[idx:idx+l]])\n",
        "                gt_strings.append(gt)\n",
        "                idx += l\n",
        "\n",
        "            # Calculate metrics\n",
        "            for pred, gt in zip(pred_strings, gt_strings):\n",
        "                if pred == gt:\n",
        "                    correct += 1\n",
        "                total += 1\n",
        "\n",
        "                # Character-level accuracy\n",
        "                min_len = min(len(pred), len(gt))\n",
        "                correct_chars += sum([p == g for p, g in zip(pred[:min_len], gt[:min_len])])\n",
        "                total_chars += len(gt)\n",
        "\n",
        "                # Metriche aggiuntive\n",
        "                if len(pred) != len(gt):\n",
        "                    length_errors += 1\n",
        "\n",
        "                # Accuracy per provincia (primo carattere)\n",
        "                if len(pred) > 0 and len(gt) > 0 and pred[0] == gt[0]:\n",
        "                    province_correct += 1\n",
        "\n",
        "                # Accuracy per alfabeto (secondo carattere)\n",
        "                if len(pred) > 1 and len(gt) > 1 and pred[1] == gt[1]:\n",
        "                    alphabet_correct += 1\n",
        "\n",
        "\n",
        "    # Calculate final metrics\n",
        "    acc = correct / total if total > 0 else 0\n",
        "    char_acc = correct_chars / total_chars if total_chars > 0 else 0\n",
        "    eval_time = time.time() - start_time\n",
        "    length_error_rate = length_errors / total if total > 0 else 0\n",
        "    province_acc = province_correct / total if total > 0 else 0\n",
        "    alphabet_acc = alphabet_correct / total if total > 0 else 0\n",
        "\n",
        "    # Log validation metrics\n",
        "    if epoch is not None:\n",
        "        wandb.log({\n",
        "            \"val_accuracy\": acc,\n",
        "            \"val_char_accuracy\": char_acc,\n",
        "            \"val_time\": eval_time,\n",
        "            \"epoch\": epoch\n",
        "        })\n",
        "\n",
        "    print(f\"Val Accuracy: {acc:.4f} - Char Accuracy: {char_acc:.4f} - Time: {eval_time:.2f}s\")\n",
        "    print(f\"Length error rate: {length_error_rate:.4f} | Province acc: {province_acc:.4f} | Alphabet acc: {alphabet_acc:.4f}\")\n",
        "    return acc, char_acc"
      ]
    },
    {
      "cell_type": "markdown",
      "id": "7d243219",
      "metadata": {
        "id": "7d243219"
      },
      "source": [
        "# Data"
      ]
    },
    {
      "cell_type": "code",
      "execution_count": null,
      "id": "29857708",
      "metadata": {
        "id": "29857708"
      },
      "outputs": [],
      "source": [
        "# DATASET CLASS\n",
        "\n",
        "class CarPlateDataset(Dataset):\n",
        "\n",
        "    def __init__(self, img_dir, transform=None, cropped = False):\n",
        "        self.img_dir = img_dir\n",
        "        self.transform = transform\n",
        "        self.image_names = os.listdir(img_dir)\n",
        "        self.cropped = cropped\n",
        "\n",
        "\n",
        "    def __len__(self):\n",
        "        return len(self.image_names)\n",
        "\n",
        "    def parse_filename(self, filename):\n",
        "        fields = filename.split('-')\n",
        "        area = float(fields[0]) / 100  # filename encodes the area in percentage (ratio plate-no plate area), so divising by 100 gives me a 0-1 range\n",
        "        tilt_degree = fields[1].split('_')\n",
        "        h_tilt = int(tilt_degree[0])    # horizontal tilt degree\n",
        "        v_tilt = int(tilt_degree[1])    #  vertical tilt degree\n",
        "        tilt_list = np.array([h_tilt, v_tilt], dtype=np.float32)\n",
        "\n",
        "\n",
        "        bbox_coords = fields[2].split('_')  #bounding box coordinates\n",
        "        leftUp_bbox = bbox_coords[0].split('&')\n",
        "        leftUp_bbox_x = int(leftUp_bbox[0])\n",
        "        leftUp_bbox_y = int(leftUp_bbox[1])\n",
        "        rightBottom_bbox = bbox_coords[1].split('&')\n",
        "        rightDown_bbox_x = int(rightBottom_bbox[0])\n",
        "        rightDown_bbox_y = int(rightBottom_bbox[1])\n",
        "        bbox_coords_list = np.array([(leftUp_bbox_x, leftUp_bbox_y),\n",
        "                                    (rightDown_bbox_x, rightDown_bbox_y)], dtype=np.float32)\n",
        "\n",
        "        vertices = fields[3].split('_')  # vertices of the plate\n",
        "        right_bottom_vertex = vertices[0].split('&')\n",
        "        right_bottom_vertex_x = int(right_bottom_vertex[0])\n",
        "        right_bottom_vertex_y = int(right_bottom_vertex[1])\n",
        "        left_bottom_vertex = vertices[1].split('&')\n",
        "        left_bottom_vertex_x = int(left_bottom_vertex[0])\n",
        "        left_bottom_vertex_y = int(left_bottom_vertex[1])\n",
        "        left_up_vertex = vertices[2].split('&')\n",
        "        left_up_vertex_x = int(left_up_vertex[0])\n",
        "        left_up_vertex_y = int(left_up_vertex[1])\n",
        "        right_up_vertex = vertices[3].split('&')\n",
        "        right_up_vertex_x = int(right_up_vertex[0])\n",
        "        right_up_vertex_y = int(right_up_vertex[1])\n",
        "\n",
        "        vertices_list = np.array([(left_bottom_vertex_x, left_bottom_vertex_y),\n",
        "                                (right_bottom_vertex_x, right_bottom_vertex_y),\n",
        "                                (right_up_vertex_x, right_up_vertex_y),\n",
        "                                (left_up_vertex_x, left_up_vertex_y)], dtype=np.float32)\n",
        "\n",
        "        # Usa le variabili globali invece di ridefinirle\n",
        "        text=str(fields[4])\n",
        "        indices=text.split(\"_\")\n",
        "        province_character=provinces[int(indices[0])]\n",
        "        alphabet_character=alphabets[int(indices[1])]\n",
        "        ads_charachters=[ads[int(i)] for i in indices[2:]]\n",
        "        plate_text=province_character+alphabet_character+\"\".join(ads_charachters)\n",
        "\n",
        "        brightness = int(fields[5])\n",
        "        blurriness_str = fields[6].replace('.jpg', '')\n",
        "        match = re.match(r'\\d+', blurriness_str)\n",
        "        if match:\n",
        "            blurriness = int(match.group())\n",
        "        else:\n",
        "            print(f\"[WARNING] File '{filename}': blurriness non standard '{fields[6]}', imposto a 0.\")\n",
        "            blurriness = 0\n",
        "\n",
        "        lp_indexes = []\n",
        "        for c in plate_text:\n",
        "            if c in char2idx:\n",
        "                lp_indexes.append(char2idx[c])\n",
        "            else:\n",
        "                print(f\"[WARNING] Carattere non riconosciuto '{c}' in '{plate_text}'\")\n",
        "\n",
        "        return {\n",
        "            'area': area,\n",
        "            'tilt': tilt_list,\n",
        "            'bbox_coords': bbox_coords_list,\n",
        "            'vertices': vertices_list,\n",
        "            'lp': plate_text,\n",
        "            'lp_indexes': lp_indexes,\n",
        "            'brightness': brightness,\n",
        "            'blurriness': blurriness,\n",
        "        }\n",
        "\n",
        "    def __getitem__(self, idx):\n",
        "        img_name = self.image_names[idx]\n",
        "        img_path = os.path.join(self.img_dir, img_name)\n",
        "\n",
        "        # Load the image\n",
        "        image = Image.open(img_path)\n",
        "\n",
        "        # Parse the filename to get the associated metadata\n",
        "        metadata = self.parse_filename(img_name)\n",
        "\n",
        "        if self.cropped:    # I use this dataset for both baselines, so I check if I need to skip detection part and use dataset bbox.\n",
        "            # I can use the crop method of PIL, that crops the image using coords in this way: (left, upper, right, lower)\n",
        "            '''\n",
        "            left is the x-coordinate of the left edge.\n",
        "\n",
        "            upper is the y-coordinate of the top edge.\n",
        "\n",
        "            right is the x-coordinate of the right edge.\n",
        "\n",
        "            lower is the y-coordinate of the bottom edge.\n",
        "            seen on the online odcs of pillow\n",
        "            '''\n",
        "            bbox_coords = metadata['bbox_coords']\n",
        "\n",
        "            left = int(bbox_coords[0][0])   # x-coordinate of the left edge\n",
        "            upper = int(bbox_coords[0][1])  # y-coordinate of the top edge\n",
        "            right = int(bbox_coords[1][0])  # x-coordinate of the right edge\n",
        "            lower = int(bbox_coords[1][1])  # y-coordinate of the bottom edge\n",
        "\n",
        "            image = image.crop((left, upper, right, lower))\n",
        "\n",
        "        if self.transform:\n",
        "            image = self.transform(image)\n",
        "\n",
        "        return image, torch.tensor(metadata['lp_indexes'], dtype=torch.long)  # Return the image and the license plate indexes as a tensor, for the CNN to elaborate"
      ]
    },
    {
      "cell_type": "code",
      "execution_count": null,
      "id": "inC64Hm4I0V3",
      "metadata": {
        "colab": {
          "base_uri": "https://localhost:8080/"
        },
        "id": "inC64Hm4I0V3",
        "outputId": "94c9be9f-dea5-452f-de05-b82934c33b83"
      },
      "outputs": [
        {
          "name": "stdout",
          "output_type": "stream",
          "text": [
            "Training samples: 8341\n",
            "Validation samples: 1790\n",
            "Test samples: 1789\n"
          ]
        }
      ],
      "source": [
        "# CHOOSE THE DATASET\n",
        "\n",
        "train_dataset = CarPlateDataset(\n",
        "    img_dir='/content/yolov5/runs/detect/yolo_train/crops/license_plate',\n",
        "    transform=transform,\n",
        "    cropped=False\n",
        ")\n",
        "\n",
        "val_dataset = CarPlateDataset(\n",
        "    img_dir='/content/yolov5/runs/detect/yolo_val/crops/license_plate',\n",
        "    transform=transform,\n",
        "    cropped=False\n",
        ")\n",
        "\n",
        "test_dataset = CarPlateDataset(\n",
        "    img_dir='/content/yolov5/runs/detect/yolo_test/crops/license_plate',\n",
        "    transform=transform,\n",
        "    cropped=False\n",
        ")\n",
        "\n",
        "\n",
        "# Create data loaders\n",
        "train_loader = DataLoader(\n",
        "    train_dataset,\n",
        "    batch_size=32,\n",
        "    shuffle=True,\n",
        "    collate_fn=ctc_collate_fn,\n",
        "    num_workers = 0\n",
        ")\n",
        "\n",
        "val_loader = DataLoader(\n",
        "    val_dataset,\n",
        "    batch_size=32,\n",
        "    shuffle=False,\n",
        "    collate_fn=ctc_collate_fn,\n",
        "    num_workers = 0\n",
        ")\n",
        "\n",
        "test_loader = DataLoader(\n",
        "    test_dataset,\n",
        "    batch_size=32,\n",
        "    shuffle=False,\n",
        "    collate_fn=ctc_collate_fn,\n",
        "    num_workers = 0\n",
        ")\n",
        "\n",
        "print(f\"Training samples: {len(train_dataset)}\")\n",
        "print(f\"Validation samples: {len(val_dataset)}\")\n",
        "print(f\"Test samples: {len(test_dataset)}\")"
      ]
    },
    {
      "cell_type": "markdown",
      "id": "449ff7e0",
      "metadata": {
        "id": "449ff7e0"
      },
      "source": [
        "# Network"
      ]
    },
    {
      "cell_type": "code",
      "execution_count": null,
      "id": "ebe68d4a",
      "metadata": {
        "colab": {
          "base_uri": "https://localhost:8080/",
          "height": 211
        },
        "id": "ebe68d4a",
        "outputId": "e5df1a8b-73aa-4761-ad52-b15738fc316c"
      },
      "outputs": [
        {
          "data": {
            "text/html": [
              "Tracking run with wandb version 0.21.0"
            ],
            "text/plain": [
              "<IPython.core.display.HTML object>"
            ]
          },
          "metadata": {},
          "output_type": "display_data"
        },
        {
          "data": {
            "text/html": [
              "Run data is saved locally in <code>/content/wandb/run-20250718_114947-ej4ny0s3</code>"
            ],
            "text/plain": [
              "<IPython.core.display.HTML object>"
            ]
          },
          "metadata": {},
          "output_type": "display_data"
        },
        {
          "data": {
            "text/html": [
              "Syncing run <strong><a href='https://wandb.ai/gzara-sapienza-universit-di-roma/pdlpr-license-plate-recognition/runs/ej4ny0s3' target=\"_blank\">rural-water-7</a></strong> to <a href='https://wandb.ai/gzara-sapienza-universit-di-roma/pdlpr-license-plate-recognition' target=\"_blank\">Weights & Biases</a> (<a href='https://wandb.me/developer-guide' target=\"_blank\">docs</a>)<br>"
            ],
            "text/plain": [
              "<IPython.core.display.HTML object>"
            ]
          },
          "metadata": {},
          "output_type": "display_data"
        },
        {
          "data": {
            "text/html": [
              " View project at <a href='https://wandb.ai/gzara-sapienza-universit-di-roma/pdlpr-license-plate-recognition' target=\"_blank\">https://wandb.ai/gzara-sapienza-universit-di-roma/pdlpr-license-plate-recognition</a>"
            ],
            "text/plain": [
              "<IPython.core.display.HTML object>"
            ]
          },
          "metadata": {},
          "output_type": "display_data"
        },
        {
          "data": {
            "text/html": [
              " View run at <a href='https://wandb.ai/gzara-sapienza-universit-di-roma/pdlpr-license-plate-recognition/runs/ej4ny0s3' target=\"_blank\">https://wandb.ai/gzara-sapienza-universit-di-roma/pdlpr-license-plate-recognition/runs/ej4ny0s3</a>"
            ],
            "text/plain": [
              "<IPython.core.display.HTML object>"
            ]
          },
          "metadata": {},
          "output_type": "display_data"
        },
        {
          "name": "stdout",
          "output_type": "stream",
          "text": [
            "Using device: cuda\n",
            "Model has 13,774,469 trainable parameters\n",
            "Model initialized successfully!\n"
          ]
        },
        {
          "name": "stderr",
          "output_type": "stream",
          "text": [
            "/usr/local/lib/python3.11/dist-packages/torch/optim/lr_scheduler.py:62: UserWarning: The verbose parameter is deprecated. Please use get_last_lr() to access the learning rate.\n",
            "  warnings.warn(\n"
          ]
        }
      ],
      "source": [
        "# WEIGHT AND BIASES SETUP\n",
        "\n",
        "wandb.init(\n",
        "    project=\"pdlpr-license-plate-recognition\",\n",
        "    config={\n",
        "        \"architecture\": \"PDLPR\",\n",
        "        \"dataset\": \"CCPD_green\",\n",
        "        \"batch_size\": 32,\n",
        "        \"learning_rate\": 0.001,\n",
        "        \"epochs\": 50,\n",
        "        \"optimizer\": \"Adam\",\n",
        "        \"image_size\": (64, 256),\n",
        "        \"num_classes\": 69,\n",
        "        \"dropout\": 0.1\n",
        "    }\n",
        ")\n",
        "\n",
        "\n",
        "# MODEL SETUP\n",
        "\n",
        "device = torch.device('cuda' if torch.cuda.is_available() else 'cpu')\n",
        "print(f\"Using device: {device}\")\n",
        "model = PDLPR(num_classes=BLANK_IDX + 1, dropout=0.1).to(device)\n",
        "\n",
        "def count_parameters(model):\n",
        "\n",
        "    '''\n",
        "\n",
        "    function that counts the number of trainable parameters  \n",
        "    \n",
        "    '''\n",
        "\n",
        "    return sum(p.numel() for p in model.parameters() if p.requires_grad)\n",
        "\n",
        "print(f\"Model has {count_parameters(model):,} trainable parameters\")\n",
        "\n",
        "# TRAINING SETUP\n",
        "\n",
        "criterion = nn.CTCLoss(blank=BLANK_IDX, zero_infinity=True)\n",
        "optimizer = optim.Adam(model.parameters(), lr=0.001, weight_decay=1e-4)\n",
        "scheduler = optim.lr_scheduler.ReduceLROnPlateau(optimizer, mode='min', factor=0.5, patience=5, verbose=True)"
      ]
    },
    {
      "cell_type": "markdown",
      "id": "8f539e66",
      "metadata": {
        "id": "8f539e66"
      },
      "source": [
        "# Train"
      ]
    },
    {
      "cell_type": "code",
      "execution_count": null,
      "id": "03817781",
      "metadata": {
        "colab": {
          "base_uri": "https://localhost:8080/",
          "height": 1000
        },
        "id": "03817781",
        "outputId": "b9b1af26-1162-4c35-cf49-6e56329d640d"
      },
      "outputs": [
        {
          "name": "stdout",
          "output_type": "stream",
          "text": [
            "\n",
            "--- Epoch 1/15 ---\n",
            "Epoch 0 - Train Loss: 1.4395 - Time: 46.60s\n",
            "Val Accuracy: 0.3223 - Char Accuracy: 0.8336 - Time: 4.59s\n",
            "Length error rate: 0.0089 | Province acc: 0.9670 | Alphabet acc: 0.9771\n",
            "New best model saved! Validation accuracy: 0.3223\n",
            "Current LR: 0.001000\n",
            "\n",
            "--- Epoch 2/15 ---\n",
            "Epoch 1 - Train Loss: 0.2556 - Time: 45.27s\n",
            "Val Accuracy: 0.7709 - Char Accuracy: 0.9440 - Time: 5.63s\n",
            "Length error rate: 0.0028 | Province acc: 0.9709 | Alphabet acc: 0.9827\n",
            "New best model saved! Validation accuracy: 0.7709\n",
            "Current LR: 0.001000\n",
            "\n",
            "--- Epoch 3/15 ---\n",
            "Epoch 2 - Train Loss: 0.1604 - Time: 45.74s\n",
            "Val Accuracy: 0.8117 - Char Accuracy: 0.9523 - Time: 5.12s\n",
            "Length error rate: 0.0000 | Province acc: 0.9804 | Alphabet acc: 0.9832\n",
            "New best model saved! Validation accuracy: 0.8117\n",
            "Current LR: 0.001000\n",
            "\n",
            "--- Epoch 4/15 ---\n",
            "Epoch 3 - Train Loss: 0.1184 - Time: 46.29s\n",
            "Val Accuracy: 0.8659 - Char Accuracy: 0.9647 - Time: 4.62s\n",
            "Length error rate: 0.0000 | Province acc: 0.9804 | Alphabet acc: 0.9832\n",
            "New best model saved! Validation accuracy: 0.8659\n",
            "Current LR: 0.001000\n",
            "\n",
            "--- Epoch 5/15 ---\n",
            "Epoch 4 - Train Loss: 0.0940 - Time: 46.43s\n",
            "Val Accuracy: 0.8955 - Char Accuracy: 0.9708 - Time: 5.25s\n",
            "Length error rate: 0.0000 | Province acc: 0.9888 | Alphabet acc: 0.9922\n",
            "New best model saved! Validation accuracy: 0.8955\n",
            "Current LR: 0.001000\n",
            "\n",
            "--- Epoch 6/15 ---\n",
            "Epoch 5 - Train Loss: 0.0857 - Time: 46.36s\n",
            "Val Accuracy: 0.8799 - Char Accuracy: 0.9697 - Time: 5.68s\n",
            "Length error rate: 0.0000 | Province acc: 0.9827 | Alphabet acc: 0.9821\n",
            "Current LR: 0.001000\n",
            "\n",
            "--- Epoch 7/15 ---\n",
            "Epoch 6 - Train Loss: 0.0822 - Time: 46.29s\n",
            "Val Accuracy: 0.8888 - Char Accuracy: 0.9709 - Time: 4.69s\n",
            "Length error rate: 0.0006 | Province acc: 0.9832 | Alphabet acc: 0.9950\n",
            "Current LR: 0.001000\n",
            "\n",
            "--- Epoch 8/15 ---\n",
            "Epoch 7 - Train Loss: 0.0823 - Time: 46.53s\n",
            "Val Accuracy: 0.8760 - Char Accuracy: 0.9673 - Time: 4.66s\n",
            "Length error rate: 0.0011 | Province acc: 0.9844 | Alphabet acc: 0.9855\n",
            "Current LR: 0.001000\n",
            "\n",
            "--- Epoch 9/15 ---\n",
            "Epoch 8 - Train Loss: 0.0751 - Time: 46.00s\n",
            "Val Accuracy: 0.9056 - Char Accuracy: 0.9750 - Time: 5.76s\n",
            "Length error rate: 0.0000 | Province acc: 0.9888 | Alphabet acc: 0.9939\n",
            "New best model saved! Validation accuracy: 0.9056\n",
            "Current LR: 0.001000\n",
            "\n",
            "--- Epoch 10/15 ---\n",
            "Epoch 9 - Train Loss: 0.0666 - Time: 45.94s\n",
            "Val Accuracy: 0.9073 - Char Accuracy: 0.9753 - Time: 4.74s\n",
            "Length error rate: 0.0006 | Province acc: 0.9883 | Alphabet acc: 0.9927\n",
            "New best model saved! Validation accuracy: 0.9073\n",
            "Current LR: 0.001000\n",
            "\n",
            "--- Epoch 11/15 ---\n",
            "Epoch 10 - Train Loss: 0.0671 - Time: 46.37s\n",
            "Val Accuracy: 0.9073 - Char Accuracy: 0.9755 - Time: 4.64s\n",
            "Length error rate: 0.0006 | Province acc: 0.9844 | Alphabet acc: 0.9939\n",
            "Current LR: 0.001000\n",
            "\n",
            "--- Epoch 12/15 ---\n",
            "Epoch 11 - Train Loss: 0.0652 - Time: 46.12s\n",
            "Val Accuracy: 0.9156 - Char Accuracy: 0.9761 - Time: 5.39s\n",
            "Length error rate: 0.0006 | Province acc: 0.9888 | Alphabet acc: 0.9911\n",
            "New best model saved! Validation accuracy: 0.9156\n",
            "Current LR: 0.001000\n",
            "\n",
            "--- Epoch 13/15 ---\n",
            "Epoch 12 - Train Loss: 0.0634 - Time: 46.02s\n",
            "Val Accuracy: 0.9106 - Char Accuracy: 0.9774 - Time: 5.26s\n",
            "Length error rate: 0.0000 | Province acc: 0.9849 | Alphabet acc: 0.9944\n",
            "Current LR: 0.001000\n",
            "\n",
            "--- Epoch 14/15 ---\n",
            "Epoch 13 - Train Loss: 0.0593 - Time: 45.98s\n",
            "Val Accuracy: 0.9145 - Char Accuracy: 0.9767 - Time: 4.62s\n",
            "Length error rate: 0.0000 | Province acc: 0.9877 | Alphabet acc: 0.9922\n",
            "Current LR: 0.001000\n",
            "\n",
            "--- Epoch 15/15 ---\n",
            "Epoch 14 - Train Loss: 0.0551 - Time: 46.20s\n",
            "Val Accuracy: 0.9196 - Char Accuracy: 0.9788 - Time: 5.04s\n",
            "Length error rate: 0.0000 | Province acc: 0.9899 | Alphabet acc: 0.9916\n",
            "New best model saved! Validation accuracy: 0.9196\n",
            "Current LR: 0.001000\n",
            "\n",
            "Training completed! Best validation accuracy: 0.9196\n"
          ]
        },
        {
          "data": {
            "text/html": [],
            "text/plain": [
              "<IPython.core.display.HTML object>"
            ]
          },
          "metadata": {},
          "output_type": "display_data"
        },
        {
          "data": {
            "text/html": [
              "<br>    <style><br>        .wandb-row {<br>            display: flex;<br>            flex-direction: row;<br>            flex-wrap: wrap;<br>            justify-content: flex-start;<br>            width: 100%;<br>        }<br>        .wandb-col {<br>            display: flex;<br>            flex-direction: column;<br>            flex-basis: 100%;<br>            flex: 1;<br>            padding: 10px;<br>        }<br>    </style><br><div class=\"wandb-row\"><div class=\"wandb-col\"><h3>Run history:</h3><br/><table class=\"wandb\"><tr><td>batch</td><td>▁▅█▁▅█▁▅▁▅█▁▅█▁▅▁▅█▁▅█▁▅▁▅█▁▅█▁▅▁▅█▁▅█▁█</td></tr><tr><td>batch_loss</td><td>█▂▂▂▁▁▁▁▁▁▁▁▁▁▁▁▁▁▁▁▁▁▁▁▁▁▁▁▁▁▁▁▁▁▁▁▁▁▁▁</td></tr><tr><td>best_epoch</td><td>▁▁▂▃▃▅▅▇█</td></tr><tr><td>best_val_acc</td><td>▁▆▇▇█████</td></tr><tr><td>best_val_acc_so_far</td><td>▁▆▇▇███████████</td></tr><tr><td>epoch</td><td>▁▁▁▁▁▂▂▂▂▃▃▃▃▃▃▃▃▅▅▅▅▅▅▅▅▅▅▆▆▆▇▇▇▇▇▇▇▇██</td></tr><tr><td>epoch_time</td><td>█▁▃▆▇▇▆█▅▅▇▅▅▅▆</td></tr><tr><td>learning_rate</td><td>▁▁▁▁▁▁▁▁▁▁▁▁▁▁▁</td></tr><tr><td>train_loss</td><td>█▂▂▁▁▁▁▁▁▁▁▁▁▁▁</td></tr><tr><td>val_accuracy</td><td>▁▆▇▇███▇███████</td></tr><tr><td>val_char_accuracy</td><td>▁▆▇▇███▇███████</td></tr><tr><td>val_time</td><td>▁▇▄▁▅▇▂▁█▂▁▆▅▁▄</td></tr></table><br/></div><div class=\"wandb-col\"><h3>Run summary:</h3><br/><table class=\"wandb\"><tr><td>batch</td><td>200</td></tr><tr><td>batch_loss</td><td>0.08497</td></tr><tr><td>best_epoch</td><td>14</td></tr><tr><td>best_val_acc</td><td>0.91955</td></tr><tr><td>best_val_acc_so_far</td><td>0.91955</td></tr><tr><td>epoch</td><td>14</td></tr><tr><td>epoch_time</td><td>46.19587</td></tr><tr><td>final_best_val_acc</td><td>0.91955</td></tr><tr><td>learning_rate</td><td>0.001</td></tr><tr><td>total_epochs</td><td>15</td></tr><tr><td>train_loss</td><td>0.05512</td></tr><tr><td>val_accuracy</td><td>0.91955</td></tr><tr><td>val_char_accuracy</td><td>0.97877</td></tr><tr><td>val_time</td><td>5.03819</td></tr></table><br/></div></div>"
            ],
            "text/plain": [
              "<IPython.core.display.HTML object>"
            ]
          },
          "metadata": {},
          "output_type": "display_data"
        },
        {
          "data": {
            "text/html": [
              " View run <strong style=\"color:#cdcd00\">rural-water-7</strong> at: <a href='https://wandb.ai/gzara-sapienza-universit-di-roma/pdlpr-license-plate-recognition/runs/ej4ny0s3' target=\"_blank\">https://wandb.ai/gzara-sapienza-universit-di-roma/pdlpr-license-plate-recognition/runs/ej4ny0s3</a><br> View project at: <a href='https://wandb.ai/gzara-sapienza-universit-di-roma/pdlpr-license-plate-recognition' target=\"_blank\">https://wandb.ai/gzara-sapienza-universit-di-roma/pdlpr-license-plate-recognition</a><br>Synced 5 W&B file(s), 0 media file(s), 0 artifact file(s) and 0 other file(s)"
            ],
            "text/plain": [
              "<IPython.core.display.HTML object>"
            ]
          },
          "metadata": {},
          "output_type": "display_data"
        },
        {
          "data": {
            "text/html": [
              "Find logs at: <code>./wandb/run-20250718_114947-ej4ny0s3/logs</code>"
            ],
            "text/plain": [
              "<IPython.core.display.HTML object>"
            ]
          },
          "metadata": {},
          "output_type": "display_data"
        }
      ],
      "source": [
        "# TRAINING PARAMETERS\n",
        "\n",
        "num_epochs = 15\n",
        "best_val_acc = 0.0\n",
        "train_losses = []\n",
        "val_accuracies = []\n",
        "\n",
        "for epoch in range(num_epochs):\n",
        "    print(f\"\\n--- Epoch {epoch+1}/{num_epochs} ---\")\n",
        "\n",
        "    train_loss = train_one_epoch(model, train_loader, optimizer, criterion, device, epoch)\n",
        "    train_losses.append(train_loss)\n",
        "    val_acc, val_char_acc = evaluate(model, val_loader, device, epoch, verbose=(epoch % 10 == 0))\n",
        "    val_accuracies.append(val_acc)\n",
        "    scheduler.step(train_loss)\n",
        "\n",
        "    if val_acc > best_val_acc:\n",
        "        best_val_acc = val_acc\n",
        "        torch.save({\n",
        "            'epoch': epoch,\n",
        "            'model_state_dict': model.state_dict(),\n",
        "            'optimizer_state_dict': optimizer.state_dict(),\n",
        "            'val_acc': val_acc,\n",
        "            'val_char_acc': val_char_acc,\n",
        "            'train_loss': train_loss,\n",
        "        }, 'best_pdlpr_model.pth')\n",
        "\n",
        "        # Log best model info to wandb\n",
        "        wandb.log({\n",
        "            \"best_val_acc\": best_val_acc,\n",
        "            \"best_epoch\": epoch\n",
        "        })\n",
        "\n",
        "        print(f\"New best model saved! Validation accuracy: {val_acc:.4f}\")\n",
        "\n",
        "     # Log summary metrics\n",
        "    wandb.log({\n",
        "        \"epoch\": epoch,\n",
        "        \"best_val_acc_so_far\": best_val_acc\n",
        "        })\n",
        "\n",
        "    print(f\"Current LR: {optimizer.param_groups[0]['lr']:.6f}\")\n",
        "\n",
        "\n",
        "wandb.summary[\"final_best_val_acc\"] = best_val_acc\n",
        "wandb.summary[\"total_epochs\"] = num_epochs\n",
        "\n",
        "print(f\"\\nTraining completed! Best validation accuracy: {best_val_acc:.4f}\")\n",
        "\n",
        "wandb.finish()\n"
      ]
    },
    {
      "cell_type": "markdown",
      "id": "e23df049",
      "metadata": {
        "id": "e23df049"
      },
      "source": [
        "# Evaluation"
      ]
    },
    {
      "cell_type": "code",
      "execution_count": null,
      "id": "6416ddcf",
      "metadata": {
        "colab": {
          "base_uri": "https://localhost:8080/"
        },
        "id": "6416ddcf",
        "outputId": "cefe1b35-b301-49b7-8a4f-2975d5533718"
      },
      "outputs": [
        {
          "name": "stdout",
          "output_type": "stream",
          "text": [
            "Loaded best model from epoch 14 with validation accuracy: 0.9196\n",
            "\n",
            "=== Final Test Results ===\n",
            "Val Accuracy: 0.9184 - Char Accuracy: 0.9778 - Time: 4.74s\n",
            "Length error rate: 0.0006 | Province acc: 0.9911 | Alphabet acc: 0.9916\n",
            "\n",
            "Final Test Accuracy: 0.9184\n",
            "Final Test Character Accuracy: 0.9778\n",
            "\n",
            "=== Sample Predictions ===\n",
            "Sample 1: Predicted: '皖AD03128' | Ground Truth: '皖AD03128' | Match: True\n",
            "Sample 2: Predicted: '皖AF11777' | Ground Truth: '皖AF11777' | Match: True\n",
            "Sample 3: Predicted: '皖AD09814' | Ground Truth: '皖AD09814' | Match: True\n",
            "Sample 4: Predicted: '皖AD05155' | Ground Truth: '皖AD05155' | Match: True\n",
            "Sample 5: Predicted: '皖AD19535' | Ground Truth: '皖AD19535' | Match: True\n",
            "Sample 6: Predicted: '皖AD80067' | Ground Truth: '皖AD80067' | Match: True\n",
            "Sample 7: Predicted: '皖AD12821' | Ground Truth: '皖AD12821' | Match: True\n",
            "Sample 8: Predicted: '皖AD60128' | Ground Truth: '皖AD60128' | Match: True\n",
            "Sample 9: Predicted: '皖AD00020' | Ground Truth: '皖AF00752' | Match: False\n",
            "Sample 10: Predicted: '皖AD03372' | Ground Truth: '皖AD03574' | Match: False\n"
          ]
        }
      ],
      "source": [
        "# TESTING THE MODEL\n",
        "\n",
        "if os.path.exists('best_pdlpr_model.pth'):\n",
        "    checkpoint = torch.load('best_pdlpr_model.pth', map_location=device)\n",
        "    model.load_state_dict(checkpoint['model_state_dict'])\n",
        "    print(f\"Loaded best model from epoch {checkpoint['epoch']} with validation accuracy: {checkpoint['val_acc']:.4f}\")\n",
        "else:\n",
        "    print(\"No saved model found, using current model\")\n",
        "\n",
        "print(\"\\n=== Final Test Results ===\")\n",
        "test_acc, test_char_acc = evaluate(model, test_loader, device, verbose=True)\n",
        "\n",
        "print(f\"\\nFinal Test Accuracy: {test_acc:.4f}\")\n",
        "print(f\"Final Test Character Accuracy: {test_char_acc:.4f}\")\n",
        "\n",
        "# Test on a few sample images\n",
        "def test_sample_predictions(model, test_loader, num_samples=5):\n",
        "    model.eval()\n",
        "    samples_shown = 0\n",
        "\n",
        "    with torch.no_grad():\n",
        "        for batch_idx, (images, labels, label_lengths) in enumerate(test_loader):\n",
        "            if samples_shown >= num_samples:\n",
        "                break\n",
        "\n",
        "            images = images.to(device)\n",
        "            outputs = model(images)\n",
        "            pred_strings = ctc_greedy_decoder(outputs, idx2char)\n",
        "\n",
        "            labels_cpu = labels.cpu().numpy()\n",
        "            lengths_cpu = label_lengths.cpu().numpy()\n",
        "            idx = 0\n",
        "            gt_strings = []\n",
        "            for l in lengths_cpu:\n",
        "                gt = ''.join([idx2char[i] for i in labels_cpu[idx:idx+l]])\n",
        "                gt_strings.append(gt)\n",
        "                idx += l\n",
        "\n",
        "            for i, (pred, gt) in enumerate(zip(pred_strings, gt_strings)):\n",
        "                if samples_shown >= num_samples:\n",
        "                    break\n",
        "                print(f\"Sample {samples_shown+1}: Predicted: '{pred}' | Ground Truth: '{gt}' | Match: {pred == gt}\")\n",
        "                samples_shown += 1\n",
        "\n",
        "            if samples_shown >= num_samples:\n",
        "                break\n",
        "\n",
        "print(\"\\n=== Sample Predictions ===\")\n",
        "test_sample_predictions(model, test_loader, num_samples=10)"
      ]
    },
    {
      "cell_type": "code",
      "execution_count": null,
      "id": "a4ac941e",
      "metadata": {
        "colab": {
          "base_uri": "https://localhost:8080/",
          "height": 470
        },
        "id": "a4ac941e",
        "outputId": "d4162d71-f436-4055-a71c-c8ca27980b98"
      },
      "outputs": [
        {
          "data": {
            "image/png": "[encoded data removed]",
            "text/plain": [
              "<Figure size 1500x500 with 2 Axes>"
            ]
          },
          "metadata": {},
          "output_type": "display_data"
        },
        {
          "name": "stdout",
          "output_type": "stream",
          "text": [
            "\n",
            "Inference Speed Test:\n",
            "Average time per batch (32 images): 0.0042 seconds\n",
            "Average time per image: 0.0001 seconds\n",
            "Estimated FPS: 7690.19\n"
          ]
        }
      ],
      "source": [
        "# VISUALIZE THE RESULTS\n",
        "\n",
        "import matplotlib.pyplot as plt\n",
        "\n",
        "def plot_training_curves(train_losses, val_accuracies):\n",
        "    fig, (ax1, ax2) = plt.subplots(1, 2, figsize=(15, 5))\n",
        "\n",
        "    ax1.plot(train_losses, 'b-', label='Training Loss')\n",
        "    ax1.set_xlabel('Epoch')\n",
        "    ax1.set_ylabel('Loss')\n",
        "    ax1.set_title('Training Loss')\n",
        "    ax1.legend()\n",
        "    ax1.grid(True)\n",
        "\n",
        "    ax2.plot(val_accuracies, 'r-', label='Validation Accuracy')\n",
        "    ax2.set_xlabel('Epoch')\n",
        "    ax2.set_ylabel('Accuracy')\n",
        "    ax2.set_title('Validation Accuracy')\n",
        "    ax2.legend()\n",
        "    ax2.grid(True)\n",
        "\n",
        "    plt.tight_layout()\n",
        "    plt.show()\n",
        "\n",
        "if 'train_losses' in locals() and 'val_accuracies' in locals():\n",
        "    plot_training_curves(train_losses, val_accuracies)\n",
        "else:\n",
        "    print(\"No training data available for plotting\")\n",
        "\n",
        "import time\n",
        "\n",
        "def test_inference_speed(model, test_loader, num_batches=10):\n",
        "    model.eval()\n",
        "    times = []\n",
        "\n",
        "    with torch.no_grad():\n",
        "        for batch_idx, (images, labels, label_lengths) in enumerate(test_loader):\n",
        "            if batch_idx >= num_batches:\n",
        "                break\n",
        "\n",
        "            images = images.to(device)\n",
        "\n",
        "            # Time the forward pass\n",
        "            start_time = time.time()\n",
        "            outputs = model(images)\n",
        "            end_time = time.time()\n",
        "\n",
        "            batch_time = end_time - start_time\n",
        "            times.append(batch_time)\n",
        "\n",
        "    avg_time = sum(times) / len(times)\n",
        "    avg_per_image = avg_time / images.size(0)\n",
        "\n",
        "    print(f\"\\nInference Speed Test:\")\n",
        "    print(f\"Average time per batch ({images.size(0)} images): {avg_time:.4f} seconds\")\n",
        "    print(f\"Average time per image: {avg_per_image:.4f} seconds\")\n",
        "    print(f\"Estimated FPS: {1/avg_per_image:.2f}\")\n",
        "\n",
        "# Test inference speed if test_loader exists\n",
        "if 'test_loader' in locals():\n",
        "    test_inference_speed(model, test_loader)\n",
        "else:\n",
        "    print(\"No test loader available for speed test\")"
      ]
    },
    {
      "cell_type": "markdown",
      "id": "NnW5_m2Uc1Kd",
      "metadata": {
        "id": "NnW5_m2Uc1Kd"
      },
      "source": [
        "So yolo inference time was roughly 10ms per image on average, plus the average 1ms of pdlpr inference = about 11ms for the complete pipeline.\n",
        "So about 110 FPS"
      ]
    },
    {
      "cell_type": "markdown",
      "id": "Ye6Bmv0peo2b",
      "metadata": {
        "id": "Ye6Bmv0peo2b"
      },
      "source": [
        "# ONLINE PIPELINE"
      ]
    },
    {
      "cell_type": "code",
      "execution_count": null,
      "id": "p0uYVCAVr9Rx",
      "metadata": {
        "id": "p0uYVCAVr9Rx"
      },
      "outputs": [],
      "source": [
        "# ONLINE PIPELINE\n",
        "\n",
        "class LicensePlateRecognitionPipeline:\n",
        "    def __init__(self, yolo_model_path, pdlpr_model_path, device='cuda'):\n",
        "\n",
        "        \"\"\"\n",
        "\n",
        "        Pipeline completa per detection e riconoscimento targhe\n",
        "\n",
        "        Args:\n",
        "            yolo_model_path: Path al modello YOLOv5 addestrato\n",
        "            pdlpr_model_path: Path al modello PDLPR addestrato\n",
        "            device: Device da usare ('cuda' o 'cpu')\n",
        "\n",
        "        \"\"\"\n",
        "        self.device = torch.device(device if torch.cuda.is_available() else 'cpu')\n",
        "        print(f\"Using device: {self.device}\")\n",
        "\n",
        "        # Carica modello YOLOv5\n",
        "        self.yolo_model = torch.hub.load('ultralytics/yolov5', 'custom', path=yolo_model_path)\n",
        "        self.yolo_model.to(self.device)\n",
        "        self.yolo_model.eval()\n",
        "\n",
        "        # Carica modello PDLPR\n",
        "        self.pdlpr_model = PDLPR(num_classes=BLANK_IDX + 1, dropout=0.1).to(self.device)\n",
        "        checkpoint = torch.load(pdlpr_model_path, map_location=self.device)\n",
        "        self.pdlpr_model.load_state_dict(checkpoint['model_state_dict'])\n",
        "        self.pdlpr_model.eval()\n",
        "\n",
        "        # Transforms per PDLPR\n",
        "        self.transform = transforms.Compose([\n",
        "            transforms.Resize((64, 256)),\n",
        "            transforms.ToTensor(),\n",
        "            transforms.Grayscale(num_output_channels=1),\n",
        "            transforms.Normalize(mean=[0.5], std=[0.5])\n",
        "        ])\n",
        "\n",
        "        print(\"Pipeline initialized successfully!\")\n",
        "\n",
        "    def yolo_crop(self, image_path):\n",
        "\n",
        "        \"\"\"\n",
        "\n",
        "        detecting plates through Yolo\n",
        "\n",
        "        \"\"\"\n",
        "\n",
        "        img = Image.open(image_path)\n",
        "        ris = self.yolo_model(image_path)  \n",
        "        metadata = ris.pred[0]\n",
        "\n",
        "        if len(metadata) > 0:\n",
        "            det = metadata[0]  # Prima detection\n",
        "            x1, y1, x2, y2 = map(int, det[:4])\n",
        "            cropped = img.crop((x1, y1, x2, y2))\n",
        "            return cropped\n",
        "        else:\n",
        "            print(\"Nessuna targa rilevata!\")\n",
        "            return None\n",
        "\n",
        "    def recognize_plate(self, plate_crop):\n",
        "\n",
        "        \"\"\"\n",
        "\n",
        "        Riconosce il testo di una targa usando PDLPR\n",
        "\n",
        "        \"\"\"\n",
        "\n",
        "        if plate_crop is None:\n",
        "            return \"\"\n",
        "\n",
        "        plate_crop_tr = self.transform(plate_crop).unsqueeze(0)\n",
        "        plate_crop_tr = plate_crop_tr.to(self.device)\n",
        "\n",
        "        with torch.no_grad():\n",
        "            outputs = self.pdlpr_model(plate_crop_tr)  # Usa self.pdlpr_model\n",
        "            pred_string = ctc_greedy_decoder(outputs, idx2char)\n",
        "\n",
        "        return pred_string[0] if pred_string else \"\"\n",
        "\n",
        "    def __call__(self, img_path):\n",
        "\n",
        "        \"\"\"\n",
        "\n",
        "        Rende l'oggetto callable (we were getting \"(name of the object) not callable\")\n",
        "\n",
        "        \"\"\"\n",
        "        \n",
        "        crop = self.yolo_crop(img_path)\n",
        "        plate = self.recognize_plate(crop)\n",
        "        return plate\n"
      ]
    },
    {
      "cell_type": "code",
      "execution_count": null,
      "id": "JrQhXyWhqT-J",
      "metadata": {
        "colab": {
          "base_uri": "https://localhost:8080/"
        },
        "id": "JrQhXyWhqT-J",
        "outputId": "d631587e-d462-4dc2-a547-78d4d2720f62"
      },
      "outputs": [
        {
          "name": "stdout",
          "output_type": "stream",
          "text": [
            "Using device: cuda\n"
          ]
        },
        {
          "name": "stderr",
          "output_type": "stream",
          "text": [
            "Using cache found in /root/.cache/torch/hub/ultralytics_yolov5_master\n",
            "YOLOv5 🚀 2025-7-18 Python-3.11.13 torch-2.6.0+cu124 CUDA:0 (Tesla T4, 15095MiB)\n",
            "\n",
            "Fusing layers... \n",
            "Model summary: 157 layers, 7012822 parameters, 0 gradients, 15.8 GFLOPs\n",
            "Adding AutoShape... \n"
          ]
        },
        {
          "name": "stdout",
          "output_type": "stream",
          "text": [
            "Pipeline initialized successfully!\n"
          ]
        }
      ],
      "source": [
        "online_model = LicensePlateRecognitionPipeline(yolo_model_path = \"/content/yolo_finetuned_model.pt\", pdlpr_model_path = \"/content/best_pdlpr_model.pth\", device = \"cuda\")"
      ]
    },
    {
      "cell_type": "code",
      "execution_count": null,
      "id": "ZSoYhhZvqsI1",
      "metadata": {
        "id": "ZSoYhhZvqsI1"
      },
      "outputs": [],
      "source": [
        "plate = online_model(\"/content/ccpd_green/test/0026484674329501916-93_90-283&513_362&543-360&543_283&539_283&513_362&518-0_0_3_25_32_32_33_33-93-14.jpg\")"
      ]
    },
    {
      "cell_type": "code",
      "execution_count": null,
      "id": "hylqnj92thpP",
      "metadata": {
        "colab": {
          "base_uri": "https://localhost:8080/",
          "height": 36
        },
        "id": "hylqnj92thpP",
        "outputId": "bb75d1ae-0050-4426-8539-3af2c55cde09"
      },
      "outputs": [
        {
          "data": {
            "application/vnd.google.colaboratory.intrinsic+json": {
              "type": "string"
            },
            "text/plain": [
              "'皖AD18899'"
            ]
          },
          "execution_count": 125,
          "metadata": {},
          "output_type": "execute_result"
        }
      ],
      "source": [
        "get_plate(\"0026484674329501916-93_90-283&513_362&543-360&543_283&539_283&513_362&518-0_0_3_25_32_32_33_33-93-14.jpg\")"
      ]
    },
    {
      "cell_type": "code",
      "execution_count": null,
      "id": "9yZ8KaposDok",
      "metadata": {
        "colab": {
          "base_uri": "https://localhost:8080/",
          "height": 36
        },
        "id": "9yZ8KaposDok",
        "outputId": "76a63a94-36e6-450a-ec3f-2eec581d2617"
      },
      "outputs": [
        {
          "data": {
            "application/vnd.google.colaboratory.intrinsic+json": {
              "type": "string"
            },
            "text/plain": [
              "'皖AD18899'"
            ]
          },
          "execution_count": 122,
          "metadata": {},
          "output_type": "execute_result"
        }
      ],
      "source": [
        "plate"
      ]
    }
  ],
  "metadata": {
    "accelerator": "GPU",
    "colab": {
      "gpuType": "T4",
      "provenance": [],
      "toc_visible": true
    },
    "kernelspec": {
      "display_name": "virtualenv",
      "language": "python",
      "name": "python3"
    },
    "language_info": {
      "codemirror_mode": {
        "name": "ipython",
        "version": 3
      },
      "file_extension": ".py",
      "mimetype": "text/x-python",
      "name": "python",
      "nbconvert_exporter": "python",
      "pygments_lexer": "ipython3",
      "version": "3.12.9"
    }
  },
  "nbformat": 4,
  "nbformat_minor": 5
}
