{
 "cells": [
  {
   "cell_type": "code",
   "execution_count": null,
   "id": "acf18fed",
   "metadata": {},
   "outputs": [],
   "source": [
    "# THIS NOTEBOOK IS FOR ANALYSIS ONLY, THAT IS WHY IT DOES NOT FOLLOW THE USUAL LAYOUT (GLOBALS, UTILS, ETC.)"
   ]
  },
  {
   "cell_type": "code",
   "execution_count": 1,
   "id": "5b8bd4cf",
   "metadata": {},
   "outputs": [
    {
     "name": "stdout",
     "output_type": "stream",
     "text": [
      "Current distribution:\n",
      "Train: 5769 files\n",
      "Val: 1001 files\n",
      "Test: 5006 files\n",
      "Total: 11776 files\n",
      "\n",
      "Current percentages:\n",
      "Train: 49.0%\n",
      "Val: 8.5%\n",
      "Test: 42.5%\n"
     ]
    }
   ],
   "source": [
    "# Analyze current data distribution in ccpd_green folder\n",
    "import os\n",
    "import shutil\n",
    "import random\n",
    "from pathlib import Path\n",
    "\n",
    "# Set paths\n",
    "ccpd_green_path = Path(\"./ccpd_green\")\n",
    "train_path = ccpd_green_path / \"train\"\n",
    "val_path = ccpd_green_path / \"val\" \n",
    "test_path = ccpd_green_path / \"test\"\n",
    "\n",
    "# Count current files\n",
    "train_files = list(train_path.glob(\"*\"))\n",
    "val_files = list(val_path.glob(\"*\"))\n",
    "test_files = list(test_path.glob(\"*\"))\n",
    "\n",
    "print(\"Current distribution:\")\n",
    "print(f\"Train: {len(train_files)} files\")\n",
    "print(f\"Val: {len(val_files)} files\")\n",
    "print(f\"Test: {len(test_files)} files\")\n",
    "print(f\"Total: {len(train_files) + len(val_files) + len(test_files)} files\")\n",
    "\n",
    "# Calculate percentages\n",
    "total_files = len(train_files) + len(val_files) + len(test_files)\n",
    "print(f\"\\nCurrent percentages:\")\n",
    "print(f\"Train: {len(train_files)/total_files*100:.1f}%\")\n",
    "print(f\"Val: {len(val_files)/total_files*100:.1f}%\")\n",
    "print(f\"Test: {len(test_files)/total_files*100:.1f}%\")"
   ]
  },
  {
   "cell_type": "code",
   "execution_count": 2,
   "id": "96fc6805",
   "metadata": {},
   "outputs": [
    {
     "name": "stdout",
     "output_type": "stream",
     "text": [
      "\n",
      "Target distribution:\n",
      "Train: 8243 files (70.0%)\n",
      "Val: 1766 files (15.0%)\n",
      "Test: 1767 files (15.0%)\n",
      "\n",
      "Files to move:\n",
      "Need to move to train: 2474\n",
      "Need to move to val: 765\n",
      "Need to move to test: -3239\n",
      "\n",
      "Ready to rebalance. Run the next cell to execute the rebalancing.\n"
     ]
    }
   ],
   "source": [
    "# Rebalance data splits - Target: 70% train, 15% val, 15% test\n",
    "import numpy as np\n",
    "\n",
    "# Target percentages\n",
    "train_target = 0.70\n",
    "val_target = 0.15\n",
    "test_target = 0.15\n",
    "\n",
    "# Calculate target numbers\n",
    "target_train = int(total_files * train_target)\n",
    "target_val = int(total_files * val_target)\n",
    "target_test = total_files - target_train - target_val  # Ensure we use all files\n",
    "\n",
    "print(f\"\\nTarget distribution:\")\n",
    "print(f\"Train: {target_train} files ({target_train/total_files*100:.1f}%)\")\n",
    "print(f\"Val: {target_val} files ({target_val/total_files*100:.1f}%)\")\n",
    "print(f\"Test: {target_test} files ({target_test/total_files*100:.1f}%)\")\n",
    "\n",
    "# Collect all files and shuffle them\n",
    "all_files = train_files + val_files + test_files\n",
    "random.seed(42)  # For reproducibility\n",
    "random.shuffle(all_files)\n",
    "\n",
    "print(f\"\\nFiles to move:\")\n",
    "print(f\"Need to move to train: {target_train - len(train_files)}\")\n",
    "print(f\"Need to move to val: {target_val - len(val_files)}\")\n",
    "print(f\"Need to move to test: {target_test - len(test_files)}\")\n",
    "\n",
    "# Create backup of current structure first\n",
    "print(\"\\nReady to rebalance. Run the next cell to execute the rebalancing.\")"
   ]
  },
  {
   "cell_type": "code",
   "execution_count": null,
   "id": "746f00fc",
   "metadata": {},
   "outputs": [
    {
     "name": "stdout",
     "output_type": "stream",
     "text": [
      "Step 1: Moving all files to temporary folder...\n"
     ]
    },
    {
     "name": "stderr",
     "output_type": "stream",
     "text": [
      "Moving from train: 100%|██████████| 5769/5769 [00:04<00:00, 1436.13it/s]\n",
      "Moving from train: 100%|██████████| 5769/5769 [00:04<00:00, 1436.13it/s]\n",
      "Moving from val: 100%|██████████| 1001/1001 [00:00<00:00, 1404.71it/s]\n",
      "Moving from val: 100%|██████████| 1001/1001 [00:00<00:00, 1404.71it/s]\n",
      "Moving from test: 100%|██████████| 5006/5006 [00:03<00:00, 1488.73it/s]\n",
      "Moving from test: 100%|██████████| 5006/5006 [00:03<00:00, 1488.73it/s]\n"
     ]
    },
    {
     "name": "stdout",
     "output_type": "stream",
     "text": [
      "\n",
      "Step 2: Redistributing 11776 files...\n"
     ]
    },
    {
     "name": "stderr",
     "output_type": "stream",
     "text": [
      "Moving to train: 100%|██████████| 8243/8243 [00:03<00:00, 2609.38it/s]\n",
      "Moving to train: 100%|██████████| 8243/8243 [00:03<00:00, 2609.38it/s]\n",
      "Moving to val: 100%|██████████| 1766/1766 [00:00<00:00, 3191.88it/s]\n",
      "Moving to val: 100%|██████████| 1766/1766 [00:00<00:00, 3191.88it/s]\n",
      "Moving to test: 100%|██████████| 1767/1767 [00:00<00:00, 2808.68it/s]\n",
      "\n"
     ]
    },
    {
     "name": "stdout",
     "output_type": "stream",
     "text": [
      "\n",
      "Rebalancing completed!\n",
      "\n",
      "New distribution:\n",
      "Train: 8243 files (70.0%)\n",
      "Val: 1766 files (15.0%)\n",
      "Test: 1767 files (15.0%)\n",
      "IMPORTANT: Uncomment the last line and run this cell to execute the rebalancing.\n",
      "This will permanently move your files. Make sure you have a backup if needed!\n"
     ]
    }
   ],
   "source": [
    "# Execute rebalancing - CAREFUL: This will move files!\n",
    "from tqdm import tqdm\n",
    "\n",
    "\n",
    "def move_files_to_target_split():\n",
    "    \"\"\"\n",
    "    Rebalance the files across train/val/test folders\n",
    "    \"\"\"\n",
    "    # Create temporary folder to avoid conflicts\n",
    "    temp_path = ccpd_green_path / \"temp_rebalance\"\n",
    "    temp_path.mkdir(exist_ok=True)\n",
    "    \n",
    "    print(\"Step 1: Moving all files to temp\")\n",
    "    all_current_files = []\n",
    "    \n",
    "    # Move all files to temp folder\n",
    "    for folder in [train_path, val_path, test_path]:\n",
    "        files = list(folder.glob(\"*\"))\n",
    "        for file in tqdm(files, desc=f\"Moving from {folder.name}\"): #tqdm for progress bar\n",
    "            if file.is_file():\n",
    "                dest = temp_path / file.name\n",
    "                shutil.move(str(file), str(dest))\n",
    "                all_current_files.append(dest)\n",
    "    \n",
    "    # Shuffle and redistribute\n",
    "    random.shuffle(all_current_files)\n",
    "    \n",
    "    print(f\"\\nStep 2: Redistributing {len(all_current_files)} files...\")\n",
    "    \n",
    "    # Split into new groups\n",
    "    train_end = target_train\n",
    "    val_end = target_train + target_val\n",
    "    \n",
    "    new_train_files = all_current_files[:train_end]\n",
    "    new_val_files = all_current_files[train_end:val_end]\n",
    "    new_test_files = all_current_files[val_end:]\n",
    "    \n",
    "    # Move to final destinations\n",
    "    for file in tqdm(new_train_files, desc=\"Moving to train\"):\n",
    "        shutil.move(str(file), str(train_path / file.name))\n",
    "    \n",
    "    for file in tqdm(new_val_files, desc=\"Moving to val\"):\n",
    "        shutil.move(str(file), str(val_path / file.name))\n",
    "    \n",
    "    for file in tqdm(new_test_files, desc=\"Moving to test\"):\n",
    "        shutil.move(str(file), str(test_path / file.name))\n",
    "    \n",
    "    # Clean up temp folder\n",
    "    temp_path.rmdir()\n",
    "    \n",
    "    print(\"\\nRebalancing completed!\")\n",
    "    \n",
    "    # Verify new distribution\n",
    "    new_train = len(list(train_path.glob(\"*\")))\n",
    "    new_val = len(list(val_path.glob(\"*\")))\n",
    "    new_test = len(list(test_path.glob(\"*\")))\n",
    "    \n",
    "    print(f\"\\nNew distribution:\")\n",
    "    print(f\"Train: {new_train} files ({new_train/total_files*100:.1f}%)\")\n",
    "    print(f\"Val: {new_val} files ({new_val/total_files*100:.1f}%)\")\n",
    "    print(f\"Test: {new_test} files ({new_test/total_files*100:.1f}%)\")\n",
    "\n",
    "\n",
    "\n",
    "\n",
    "\n",
    "\n",
    "#call function\n",
    "move_files_to_target_split()\n"
   ]
  },
  {
   "cell_type": "code",
   "execution_count": 4,
   "id": "dd03a191",
   "metadata": {},
   "outputs": [
    {
     "data": {
      "image/png": "[encoded data removed]",
      "text/plain": [
       "<Figure size 1800x600 with 3 Axes>"
      ]
     },
     "metadata": {},
     "output_type": "display_data"
    },
    {
     "name": "stdout",
     "output_type": "stream",
     "text": [
      "============================================================\n",
      "DATASET DISTRIBUTION SUMMARY\n",
      "============================================================\n",
      "Total files: 11,776\n",
      "\n",
      "ORIGINAL DISTRIBUTION:\n",
      "  Train       : 5,769 files (49.0%)\n",
      "  Validation  : 1,001 files (8.5%)\n",
      "  Test        : 5,006 files (42.5%)\n",
      "\n",
      "BALANCED DISTRIBUTION:\n",
      "  Train       : 8,243 files (70.0%)\n",
      "  Validation  : 1,766 files (15.0%)\n",
      "  Test        : 1,767 files (15.0%)\n",
      "\n",
      "CHANGES NEEDED:\n",
      "  Train       : +2,474 files\n",
      "  Validation  : +765 files\n",
      "  Test        : -3,239 files\n"
     ]
    }
   ],
   "source": [
    "# Create histograms to compare old vs balanced dataset distributions\n",
    "import matplotlib.pyplot as plt\n",
    "import numpy as np\n",
    "\n",
    "def plot_distribution_comparison():\n",
    "    \"\"\"\n",
    "    Plot histograms comparing the old and new data distributions\n",
    "    \"\"\"\n",
    "    # Original distribution (from previous analysis)\n",
    "    original_train = len(train_files)\n",
    "    original_val = len(val_files) \n",
    "    original_test = len(test_files)\n",
    "    \n",
    "    # Target distribution (calculated)\n",
    "    target_train_count = target_train\n",
    "    target_val_count = target_val\n",
    "    target_test_count = target_test\n",
    "    \n",
    "    # Data for plotting\n",
    "    categories = ['Train', 'Validation', 'Test']\n",
    "    original_counts = [original_train, original_val, original_test]\n",
    "    target_counts = [target_train_count, target_val_count, target_test_count]\n",
    "    \n",
    "    # Create subplots\n",
    "    fig, (ax1, ax2, ax3) = plt.subplots(1, 3, figsize=(18, 6))\n",
    "    \n",
    "    # Plot 1: Original Distribution (Counts)\n",
    "    bars1 = ax1.bar(categories, original_counts, color=['#ff7f0e', '#2ca02c', '#d62728'], alpha=0.7)\n",
    "    ax1.set_title('Original Distribution\\n(File Counts)', fontsize=14, fontweight='bold')\n",
    "    ax1.set_ylabel('Number of Files', fontsize=12)\n",
    "    ax1.grid(axis='y', alpha=0.3)\n",
    "    \n",
    "    # Add value labels on bars\n",
    "    for bar, count in zip(bars1, original_counts):\n",
    "        height = bar.get_height()\n",
    "        ax1.text(bar.get_x() + bar.get_width()/2., height + 50,\n",
    "                f'{count:,}', ha='center', va='bottom', fontweight='bold')\n",
    "    \n",
    "    # Plot 2: Target Distribution (Counts)\n",
    "    bars2 = ax2.bar(categories, target_counts, color=['#ff7f0e', '#2ca02c', '#d62728'], alpha=0.7)\n",
    "    ax2.set_title('Balanced Distribution\\n(File Counts)', fontsize=14, fontweight='bold')\n",
    "    ax2.set_ylabel('Number of Files', fontsize=12)\n",
    "    ax2.grid(axis='y', alpha=0.3)\n",
    "    \n",
    "    # Add value labels on bars\n",
    "    for bar, count in zip(bars2, target_counts):\n",
    "        height = bar.get_height()\n",
    "        ax2.text(bar.get_x() + bar.get_width()/2., height + 50,\n",
    "                f'{count:,}', ha='center', va='bottom', fontweight='bold')\n",
    "    \n",
    "    # Plot 3: Percentage Comparison\n",
    "    original_percentages = [count/total_files*100 for count in original_counts]\n",
    "    target_percentages = [count/total_files*100 for count in target_counts]\n",
    "    \n",
    "    x = np.arange(len(categories))\n",
    "    width = 0.35\n",
    "    \n",
    "    bars3a = ax3.bar(x - width/2, original_percentages, width, label='Original', \n",
    "                     color=['#ff7f0e', '#2ca02c', '#d62728'], alpha=0.7)\n",
    "    bars3b = ax3.bar(x + width/2, target_percentages, width, label='Balanced',\n",
    "                     color=['#ff7f0e', '#2ca02c', '#d62728'], alpha=0.9)\n",
    "    \n",
    "    ax3.set_title('Distribution Comparison\\n(Percentages)', fontsize=14, fontweight='bold')\n",
    "    ax3.set_ylabel('Percentage (%)', fontsize=12)\n",
    "    ax3.set_xlabel('Dataset Split', fontsize=12)\n",
    "    ax3.set_xticks(x)\n",
    "    ax3.set_xticklabels(categories)\n",
    "    ax3.legend()\n",
    "    ax3.grid(axis='y', alpha=0.3)\n",
    "    \n",
    "    # Add percentage labels\n",
    "    for bars, percentages in [(bars3a, original_percentages), (bars3b, target_percentages)]:\n",
    "        for bar, pct in zip(bars, percentages):\n",
    "            height = bar.get_height()\n",
    "            ax3.text(bar.get_x() + bar.get_width()/2., height + 0.5,\n",
    "                    f'{pct:.1f}%', ha='center', va='bottom', fontsize=10, fontweight='bold')\n",
    "    \n",
    "    plt.tight_layout()\n",
    "    plt.show()\n",
    "    \n",
    "    # Print summary statistics\n",
    "    print(\"=\"*60)\n",
    "    print(\"DATASET DISTRIBUTION SUMMARY\")\n",
    "    print(\"=\"*60)\n",
    "    print(f\"Total files: {total_files:,}\")\n",
    "    print()\n",
    "    \n",
    "    print(\"ORIGINAL DISTRIBUTION:\")\n",
    "    for cat, count, pct in zip(categories, original_counts, original_percentages):\n",
    "        print(f\"  {cat:12}: {count:,} files ({pct:.1f}%)\")\n",
    "    \n",
    "    print(\"\\nBALANCED DISTRIBUTION:\")\n",
    "    for cat, count, pct in zip(categories, target_counts, target_percentages):\n",
    "        print(f\"  {cat:12}: {count:,} files ({pct:.1f}%)\")\n",
    "    \n",
    "    print(\"\\nCHANGES NEEDED:\")\n",
    "    for cat, orig, target in zip(categories, original_counts, target_counts):\n",
    "        change = target - orig\n",
    "        print(f\"  {cat:12}: {change:+,} files\")\n",
    "\n",
    "# Run the visualization\n",
    "plot_distribution_comparison()"
   ]
  },
  {
   "cell_type": "code",
   "execution_count": 7,
   "id": "c29483b4",
   "metadata": {},
   "outputs": [],
   "source": [
    "from imports import *\n",
    "from utils import *\n",
    "from global_vars import *\n",
    "\n",
    "\n",
    "dataset = CarPlateDataset(img_dir = \"./ccpd_green/train\", transform=None, cropped= False)"
   ]
  },
  {
   "cell_type": "markdown",
   "id": "62615cd7",
   "metadata": {},
   "source": [
    "# Data\n",
    "\n",
    "A sample image name is \"04-90_267-158&448_542&553-541&553_162&551_158&448_542&450-0_1_3_24_27_33_30_24-99-116.jpg\".\n",
    "Each name can be splited by \"-\" into seven fields. Those fields are explained as follows.\n",
    "\n",
    "1) Area: Area ratio of license plate area to the entire picture area.\n",
    "\n",
    "2) Tilt degree: Horizontal tilt degree and vertical tilt degree.\n",
    "\n",
    "3) Bounding box coordinates: The coordinates of the left-up and the right-bottom vertices.\n",
    "\n",
    "4) Four vertices locations: The exact (x, y) coordinates of the four vertices of LP in the whole image. These coordinates start from the right-bottom vertex.\n",
    "\n",
    "5) License plate number: Each image in CCPD has only one LP. Each LP number is comprised of a Chinese character, a letter, and five letters or numbers. A valid Chinese license plate consists of seven characters:\n",
    "\n",
    "       - province (1 character),\n",
    "       - alphabets (1 character),\n",
    "       - alphabets+digits (6 characters).\n",
    "\n",
    "\"0_0_22_27_27_33_16\" is the index of each character. These three arrays are defined as follows. The last character of each array is letter O rather than a digit 0. We use O as a sign of \"no character\" because there is no O in Chinese license plate characters.\n",
    "\n",
    "provinces = [\"皖\", \"沪\", \"津\", \"渝\", \"冀\", \"晋\", \"蒙\", \"辽\", \"吉\", \"黑\", \"苏\", \"浙\", \"京\", \"闽\", \"赣\", \"鲁\", \"豫\", \"鄂\", \"湘\", \"粤\", \"桂\", \"琼\", \"川\", \"贵\", \"云\", \"藏\", \"陕\", \"甘\", \"青\", \"宁\", \"新\", \"警\", \"学\", \"O\"]\n",
    "\n",
    "\n",
    "alphabets = ['A', 'B', 'C', 'D', 'E', 'F', 'G', 'H', 'J', 'K', 'L', 'M', 'N', 'P', 'Q', 'R', 'S', 'T', 'U', 'V', 'W',\n",
    "             'X', 'Y', 'Z', 'O']\n",
    "\n",
    "\n",
    "ads = ['A', 'B', 'C', 'D', 'E', 'F', 'G', 'H', 'J', 'K', 'L', 'M', 'N', 'P', 'Q', 'R', 'S', 'T', 'U', 'V', 'W', 'X',\n",
    "       'Y', 'Z', '0', '1', '2', '3', '4', '5', '6', '7', '8', '9', 'O']\n",
    "\n",
    "\n",
    "6) Brightness: The brightness of the license plate region.\n",
    "\n",
    "7) Blurriness: The Blurriness of the license plate region."
   ]
  },
  {
   "cell_type": "code",
   "execution_count": 13,
   "id": "8a3b3eb8",
   "metadata": {},
   "outputs": [],
   "source": [
    "image = Image.open(\"./ccpd_green/test/02-84_90-245&479_437&584-437&551_245&584_245&503_429&479-0_0_3_24_33_26_33_26-103-32.jpg\")\n",
    "string = \"437&551_245&584_245&503_429&479\"\n",
    "vertexes = string.split(\"_\")\n",
    "\n",
    "points = [tuple(map(int, p.split(\"&\"))) for p in vertexes]\n",
    "\n",
    "xs = [x for x, y in points]\n",
    "ys = [y for x, y in points]\n",
    "\n",
    "left   = min(xs)\n",
    "right  = max(xs)\n",
    "upper  = min(ys)\n",
    "lower  = max(ys)\n",
    "\n",
    "cropped = image.crop((left, upper, right, lower))\n",
    "cropped.show()"
   ]
  },
  {
   "cell_type": "code",
   "execution_count": 2,
   "id": "04ecc8a5",
   "metadata": {},
   "outputs": [
    {
     "data": {
      "text/plain": [
       "['04',\n",
       " '90_267',\n",
       " '158&448_542&553',\n",
       " '541&553_162&551_158&448_542&450',\n",
       " '0_1_3_24_27_33_30_24',\n",
       " '99',\n",
       " '116']"
      ]
     },
     "execution_count": 2,
     "metadata": {},
     "output_type": "execute_result"
    }
   ],
   "source": [
    "ex = \"04-90_267-158&448_542&553-541&553_162&551_158&448_542&450-0_1_3_24_27_33_30_24-99-116\"\n",
    "camps = ex.split(\"-\")\n",
    "camps"
   ]
  },
  {
   "cell_type": "code",
   "execution_count": 18,
   "id": "67a2d775",
   "metadata": {},
   "outputs": [
    {
     "data": {
      "text/plain": [
       "[(437, 551), (245, 584), (245, 503), (429, 479)]"
      ]
     },
     "execution_count": 18,
     "metadata": {},
     "output_type": "execute_result"
    }
   ],
   "source": [
    "img_path = \"./ccpd_green/test/02-84_90-245&479_437&584-437&551_245&584_245&503_429&479-0_0_3_24_33_26_33_26-103-32.jpg\"\n",
    "filename = \"02-84_90-245&479_437&584-437&551_245&584_245&503_429&479-0_0_3_24_33_26_33_26-103-32.jpg\"\n",
    "\n",
    "# 1. Load image and get size\n",
    "image = Image.open(img_path)\n",
    "img_w, img_h = image.size\n",
    "\n",
    "# 2. Parse annotation string\n",
    "vertexes = filename.split(\"-\")[3]\n",
    "points = [ tuple(map(int, p.split(\"&\"))) for p in vertexes.split(\"_\")]\n",
    "points"
   ]
  }
 ],
 "metadata": {
  "kernelspec": {
   "display_name": "venvNUOVA",
   "language": "python",
   "name": "python3"
  },
  "language_info": {
   "codemirror_mode": {
    "name": "ipython",
    "version": 3
   },
   "file_extension": ".py",
   "mimetype": "text/x-python",
   "name": "python",
   "nbconvert_exporter": "python",
   "pygments_lexer": "ipython3",
   "version": "3.13.5"
  }
 },
 "nbformat": 4,
 "nbformat_minor": 5
}
