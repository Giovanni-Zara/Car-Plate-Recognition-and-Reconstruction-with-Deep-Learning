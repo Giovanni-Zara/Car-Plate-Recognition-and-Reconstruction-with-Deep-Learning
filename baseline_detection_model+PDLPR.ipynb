{
 "cells": [
  {
   "cell_type": "code",
   "execution_count": null,
   "id": "b4f19078",
   "metadata": {},
   "outputs": [],
   "source": []
  }
 ],
 "metadata": {
  "language_info": {
   "name": "python"
  }
 },
 "nbformat": 4,
 "nbformat_minor": 5
}
